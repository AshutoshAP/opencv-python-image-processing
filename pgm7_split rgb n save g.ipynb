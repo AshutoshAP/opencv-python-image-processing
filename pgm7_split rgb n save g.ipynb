{
 "cells": [
  {
   "cell_type": "code",
   "execution_count": 2,
   "metadata": {
    "collapsed": false
   },
   "outputs": [],
   "source": [
    "import cv2\n",
    "import numpy as np\n",
    "\n",
    "img = cv2.imread('/home/ap_ashutosh/Downloads/optic disc images/optic disc color1.jpg')\n",
    "\n",
    "b,g,r = cv2.split(img)\n",
    "\n",
    "cv2.namedWindow('green.jpg', cv2.WINDOW_NORMAL)\n",
    "\n",
    "cv2.imshow('green.jpg',g);\n",
    "cv2.imwrite('green_channel.jpg', g) # to save the image \n",
    "\n",
    "cv2.waitKey(0)\n",
    "cv2.destroyAllWindows()\n"
   ]
  },
  {
   "cell_type": "code",
   "execution_count": null,
   "metadata": {
    "collapsed": true
   },
   "outputs": [],
   "source": []
  }
 ],
 "metadata": {
  "kernelspec": {
   "display_name": "Python 3",
   "language": "python",
   "name": "python3"
  },
  "language_info": {
   "codemirror_mode": {
    "name": "ipython",
    "version": 3
   },
   "file_extension": ".py",
   "mimetype": "text/x-python",
   "name": "python",
   "nbconvert_exporter": "python",
   "pygments_lexer": "ipython3",
   "version": "3.5.2"
  }
 },
 "nbformat": 4,
 "nbformat_minor": 2
}
