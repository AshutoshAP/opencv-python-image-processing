{
 "cells": [
  {
   "cell_type": "code",
   "execution_count": 1,
   "metadata": {
    "collapsed": true
   },
   "outputs": [],
   "source": [
    "#below program loads an image in grayscale, displays it, save the image if you press ‘s’ and exit,\n",
    "#or simply exit without saving if you press ESC key.\n",
    "import numpy as np\n",
    "import cv2\n",
    "\n",
    "img = cv2.imread('messi.jpg',0)\n",
    "cv2.imshow('image',img)\n",
    "k = cv2.waitKey(0) & 0xFF # check pgm2 to know more. hint: truncates \n",
    "if k == 27:         # wait for ESC key to exit--# this is not working for me cos of kernel problem.# why 27 is used ?\n",
    "    cv2.destroyAllWindows()\n",
    "elif k == ord('s'): # wait for 's' key to save and exit\n",
    "    cv2.imwrite('messigray.jpg',img)\n",
    "    cv2.destroyAllWindows()"
   ]
  },
  {
   "cell_type": "code",
   "execution_count": null,
   "metadata": {
    "collapsed": true
   },
   "outputs": [],
   "source": []
  }
 ],
 "metadata": {
  "kernelspec": {
   "display_name": "Python 3",
   "language": "python",
   "name": "python3"
  },
  "language_info": {
   "codemirror_mode": {
    "name": "ipython",
    "version": 3
   },
   "file_extension": ".py",
   "mimetype": "text/x-python",
   "name": "python",
   "nbconvert_exporter": "python",
   "pygments_lexer": "ipython3",
   "version": "3.5.2"
  }
 },
 "nbformat": 4,
 "nbformat_minor": 2
}
