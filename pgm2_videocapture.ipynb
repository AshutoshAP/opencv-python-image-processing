{
 "cells": [
  {
   "cell_type": "code",
   "execution_count": 1,
   "metadata": {
    "collapsed": false,
    "deletable": true,
    "editable": true
   },
   "outputs": [
    {
     "ename": "SystemError",
     "evalue": "<built-in method release of cv2.VideoCapture object at 0x7f16882ada50> returned NULL without setting an error",
     "output_type": "error",
     "traceback": [
      "\u001b[0;31m---------------------------------------------------------------------------\u001b[0m",
      "\u001b[0;31mSystemError\u001b[0m                               Traceback (most recent call last)",
      "\u001b[0;32m<ipython-input-1-5688a8ffb7f6>\u001b[0m in \u001b[0;36m<module>\u001b[0;34m()\u001b[0m\n\u001b[1;32m     26\u001b[0m \u001b[0;34m\u001b[0m\u001b[0m\n\u001b[1;32m     27\u001b[0m \u001b[0;31m# when everything done, release the capture\u001b[0m\u001b[0;34m\u001b[0m\u001b[0;34m\u001b[0m\u001b[0m\n\u001b[0;32m---> 28\u001b[0;31m \u001b[0mcap\u001b[0m\u001b[0;34m.\u001b[0m\u001b[0mrelease\u001b[0m\u001b[0;34m(\u001b[0m\u001b[0;36m0\u001b[0m\u001b[0;34m)\u001b[0m\u001b[0;34m\u001b[0m\u001b[0m\n\u001b[0m\u001b[1;32m     29\u001b[0m \u001b[0mcv2\u001b[0m\u001b[0;34m.\u001b[0m\u001b[0mdestroyALLwindows\u001b[0m\u001b[0;34m(\u001b[0m\u001b[0;34m)\u001b[0m\u001b[0;34m\u001b[0m\u001b[0m\n",
      "\u001b[0;31mSystemError\u001b[0m: <built-in method release of cv2.VideoCapture object at 0x7f16882ada50> returned NULL without setting an error"
     ]
    }
   ],
   "source": [
    "#http://docs.opencv.org/3.1.0/dd/d43/tutorial_py_video_display.html\n",
    "import cv2\n",
    "import numpy as np\n",
    "\n",
    "cap=cv2.VideoCapture(0)#to capture a video,need to create a VideoCapture object.\n",
    "#Its argument can be either the device index or the name of a video file\n",
    "while True: #http://stackoverflow.com/questions/3754620/a-basic-question-about-while-true \n",
    "   \n",
    "    ret,frame=cap.read()\n",
    "    #cap.read() returns a bool (True/False). If frame is read correctly, it will be True.\n",
    "    #\"Frame\" will get the next frame in the camera (via \"cap\"). \n",
    "    #\"Ret\" will obtain return value from getting the camera frame, either true of false. \n",
    "    \n",
    "    gray=cv2.cvtColor(frame,cv2.COLOR_BGR2GRAY)#convert from BGR to gray, remember use BGR and not RGB\n",
    "    \n",
    "    cv2.imshow(\"frame\",frame)\n",
    "    cv2.imshow(\"gray\",gray)\n",
    "    \n",
    "    if cv2.waitKey(1) & 0xFF==ord(\"q\"):      # can be other alphabets too.\n",
    "        #cv2.waitKey() returns a 32 Bit integer value.\n",
    "        #The key input is in ASCII which is an 8 Bit integer value. \n",
    "        #So you only care about these 8 bits and want all other bits to be 0. This you can achieve with cv2.waitKey(0) & 0xFF\n",
    "        #0xFF is a hexadecimal constant which is 11111111 in binary. By using bitwise AND (&) with this constant, \n",
    "        #it leaves only the last 8 bits of the original (in this case, whatever cv2.waitKey(0) is).\n",
    "        break\n",
    "\n",
    "# when everything done, release the capture\n",
    "cap.release(0)\n",
    "cv2.destroyALLwindows()\n"
   ]
  },
  {
   "cell_type": "code",
   "execution_count": null,
   "metadata": {
    "collapsed": true,
    "deletable": true,
    "editable": true
   },
   "outputs": [],
   "source": []
  },
  {
   "cell_type": "code",
   "execution_count": null,
   "metadata": {
    "collapsed": true,
    "deletable": true,
    "editable": true
   },
   "outputs": [],
   "source": []
  }
 ],
 "metadata": {
  "kernelspec": {
   "display_name": "Python 3",
   "language": "python",
   "name": "python3"
  },
  "language_info": {
   "codemirror_mode": {
    "name": "ipython",
    "version": 3
   },
   "file_extension": ".py",
   "mimetype": "text/x-python",
   "name": "python",
   "nbconvert_exporter": "python",
   "pygments_lexer": "ipython3",
   "version": "3.5.2"
  }
 },
 "nbformat": 4,
 "nbformat_minor": 2
}
