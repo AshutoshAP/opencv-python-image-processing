{
 "cells": [
  {
   "cell_type": "code",
   "execution_count": null,
   "metadata": {
    "collapsed": true
   },
   "outputs": [],
   "source": [
    "#importing cv2 is necessary because it has all IP libraries \n",
    "\n",
    "#waitkey - 27 ??? ?? is it related to escape key ? ASCII equivalent of escape ?\n",
    "\n",
    "#numpy for all computations \n",
    "\n",
    "#matplotlib used for plotting in python\n",
    "\n",
    "#cmap-color map---jet , spring , gray , cool \n",
    "\n",
    "#plt.imshow(img, cmap=\"gray\",interpolation=\"bicubic\")--- why cmap and interpolation is used ?\n",
    "\n",
    "# visual container [.avi- audio visual interlacing ,.mp4]"
   ]
  }
 ],
 "metadata": {
  "kernelspec": {
   "display_name": "Python 3",
   "language": "python",
   "name": "python3"
  },
  "language_info": {
   "codemirror_mode": {
    "name": "ipython",
    "version": 3
   },
   "file_extension": ".py",
   "mimetype": "text/x-python",
   "name": "python",
   "nbconvert_exporter": "python",
   "pygments_lexer": "ipython3",
   "version": "3.5.2"
  }
 },
 "nbformat": 4,
 "nbformat_minor": 2
}
