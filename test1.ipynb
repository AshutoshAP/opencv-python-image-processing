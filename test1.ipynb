{
 "cells": [
  {
   "cell_type": "code",
   "execution_count": 1,
   "metadata": {
    "collapsed": false,
    "deletable": true,
    "editable": true
   },
   "outputs": [],
   "source": [
    "from __future__ import division\n",
    "import  cv2\n",
    "\n",
    "img = cv2.imread('download.jpg')\n",
    "\n",
    "screen_res = 1280, 720\n",
    "scale_width = screen_res[0] / img.shape[1]\n",
    "scale_height = screen_res[1] / img.shape[0]\n",
    "scale = min(scale_width, scale_height)\n",
    "window_width = int(img.shape[1] * scale)\n",
    "window_height = int(img.shape[0] * scale)\n",
    "\n",
    "cv2.namedWindow('dst_rt', cv2.WINDOW_NORMAL)\n",
    "cv2.resizeWindow('dst_rt', window_width, window_height)\n",
    "\n",
    "cv2.imshow('dst_rt', img)\n",
    "cv2.waitKey(0)\n",
    "cv2.destroyAllWindows()\n"
   ]
  },
  {
   "cell_type": "code",
   "execution_count": null,
   "metadata": {
    "collapsed": true,
    "deletable": true,
    "editable": true
   },
   "outputs": [],
   "source": []
  }
 ],
 "metadata": {
  "kernelspec": {
   "display_name": "Python 3",
   "language": "python",
   "name": "python3"
  },
  "language_info": {
   "codemirror_mode": {
    "name": "ipython",
    "version": 3
   },
   "file_extension": ".py",
   "mimetype": "text/x-python",
   "name": "python",
   "nbconvert_exporter": "python",
   "pygments_lexer": "ipython3",
   "version": "3.5.2"
  }
 },
 "nbformat": 4,
 "nbformat_minor": 2
}
