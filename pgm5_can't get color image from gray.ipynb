{
 "cells": [
  {
   "cell_type": "code",
   "execution_count": null,
   "metadata": {
    "collapsed": true
   },
   "outputs": [],
   "source": [
    "#OpenCV use BGR not RGB.\n",
    "import numpy as np\n",
    "import cv2\n",
    "\n",
    "\n",
    "img1=cv2.imread('optic disc.jpg')\n",
    "# in pgm 4 i used imwrite operation , so it saved the image. since i hv given 0 in imread , imwrite saved it in gray.\n",
    "#thus overwriting the unsaved rgb image.\n",
    "\n",
    "img2 = cv2.cvtColor(img1,cv2.COLOR_GRAY2BGR)\n",
    "\n",
    "#  i wanted to convert saved gray image to rgb. i tried bgr n others, but it did not work.why ?\n",
    "#One you convert your image to gray-scale you cannot got back. \n",
    "#You have gone from three channel to one, when you try to go back all three numbers will be the same. \n",
    "#So the short answer is no you cannot go back. \n",
    "#The reason your backtorgb function this throwing that error is because it needs to be in the format:CvtColor(input, output, CV_GRAY2BGR)\n",
    "#OpenCV use BGR not RGB, so if you fix the ordering it should work, though your image will still be gray.\n",
    "\n",
    "\n",
    "cv2.imshow('image',img2)\n",
    "cv2.imwrite('optic disc.jpg',img2)\n",
    "cv2.waitKey(0) \n",
    "cv2.destroyAllWindows() "
   ]
  }
 ],
 "metadata": {
  "kernelspec": {
   "display_name": "Python 3",
   "language": "python",
   "name": "python3"
  },
  "language_info": {
   "codemirror_mode": {
    "name": "ipython",
    "version": 3
   },
   "file_extension": ".py",
   "mimetype": "text/x-python",
   "name": "python",
   "nbconvert_exporter": "python",
   "pygments_lexer": "ipython3",
   "version": "3.5.2"
  }
 },
 "nbformat": 4,
 "nbformat_minor": 2
}
